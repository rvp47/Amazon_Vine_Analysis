{
  "nbformat": 4,
  "nbformat_minor": 0,
  "metadata": {
    "colab": {
      "name": "Vine_Review_Analysis.ipynb",
      "provenance": [],
      "collapsed_sections": []
    },
    "kernelspec": {
      "name": "python3",
      "display_name": "Python 3"
    },
    "language_info": {
      "name": "python"
    }
  },
  "cells": [
    {
      "cell_type": "code",
      "execution_count": 49,
      "metadata": {
        "colab": {
          "base_uri": "https://localhost:8080/"
        },
        "id": "CEFK61_8YD3J",
        "outputId": "fed1ffab-6f0b-4c80-eae7-ed56b3611a9e"
      },
      "outputs": [
        {
          "output_type": "stream",
          "name": "stdout",
          "text": [
            "Hit:1 https://cloud.r-project.org/bin/linux/ubuntu bionic-cran40/ InRelease\n",
            "Ign:2 https://developer.download.nvidia.com/compute/cuda/repos/ubuntu1804/x86_64  InRelease\n",
            "Hit:3 http://security.ubuntu.com/ubuntu bionic-security InRelease\n",
            "Ign:4 https://developer.download.nvidia.com/compute/machine-learning/repos/ubuntu1804/x86_64  InRelease\n",
            "Hit:5 https://developer.download.nvidia.com/compute/cuda/repos/ubuntu1804/x86_64  Release\n",
            "Hit:6 https://developer.download.nvidia.com/compute/machine-learning/repos/ubuntu1804/x86_64  Release\n",
            "Hit:7 http://ppa.launchpad.net/c2d4u.team/c2d4u4.0+/ubuntu bionic InRelease\n",
            "Hit:8 http://archive.ubuntu.com/ubuntu bionic InRelease\n",
            "Hit:10 http://archive.ubuntu.com/ubuntu bionic-updates InRelease\n",
            "Hit:12 http://ppa.launchpad.net/cran/libgit2/ubuntu bionic InRelease\n",
            "Hit:13 http://archive.ubuntu.com/ubuntu bionic-backports InRelease\n",
            "Hit:14 http://ppa.launchpad.net/deadsnakes/ppa/ubuntu bionic InRelease\n",
            "Hit:15 http://ppa.launchpad.net/graphics-drivers/ppa/ubuntu bionic InRelease\n",
            "Reading package lists... Done\n"
          ]
        }
      ],
      "source": [
        "import os\n",
        "# Find the latest version of spark 3.0 from http://www.apache.org/dist/spark/ and enter as the spark version\n",
        "spark_version = 'spark-3.2.1'\n",
        "os.environ['SPARK_VERSION']=spark_version\n",
        "\n",
        "# Install Spark and Java\n",
        "!apt-get update\n",
        "!apt-get install openjdk-11-jdk-headless -qq > /dev/null\n",
        "!wget -q http://www.apache.org/dist/spark/$SPARK_VERSION/$SPARK_VERSION-bin-hadoop2.7.tgz\n",
        "!tar xf $SPARK_VERSION-bin-hadoop2.7.tgz\n",
        "!pip install -q findspark\n",
        "\n",
        "# Set Environment Variables\n",
        "import os\n",
        "os.environ[\"JAVA_HOME\"] = \"/usr/lib/jvm/java-11-openjdk-amd64\"\n",
        "os.environ[\"SPARK_HOME\"] = f\"/content/{spark_version}-bin-hadoop2.7\"\n",
        "\n",
        "# Start a SparkSession\n",
        "import findspark\n",
        "findspark.init()"
      ]
    },
    {
      "cell_type": "code",
      "source": [
        "# Start a Spark Session\n",
        "from pyspark.sql import SparkSession\n",
        "spark=SparkSession.builder.appName(\"Vine_Review_Analysis\").getOrCreate()"
      ],
      "metadata": {
        "id": "u8lUttz94Blg"
      },
      "execution_count": 50,
      "outputs": []
    },
    {
      "cell_type": "code",
      "source": [
        "# Import the dataset\n",
        "from pyspark import SparkFiles\n",
        "url = \"https://s3.amazonaws.com/amazon-reviews-pds/tsv/amazon_reviews_us_Home_Improvement_v1_00.tsv.gz\"\n",
        "spark.sparkContext.addFile(url)\n",
        "df = spark.read.option(\"encoding\", \"UTF-8\").csv(SparkFiles.get(\"amazon_reviews_us_Home_Improvement_v1_00.tsv.gz\"), sep=\"\\t\", header=True, inferSchema=True)\n",
        "df.show(truncate=False)"
      ],
      "metadata": {
        "colab": {
          "base_uri": "https://localhost:8080/"
        },
        "id": "j0UGpQEo4B1P",
        "outputId": "0b0ff4c7-e8be-49aa-e4af-f115583e3918"
      },
      "execution_count": 51,
      "outputs": [
        {
          "output_type": "stream",
          "name": "stdout",
          "text": [
            "+-----------+-----------+--------------+----------+--------------+----------------------------------------------------------------------------------------------------------------------------------------------------------------------------------------------------------+----------------+-----------+-------------+-----------+----+-----------------+------------------------------------------------------------------+-----------------------------------------------------------------------------------------------------------------------------------------------------------------------------------------------------------------------------------------------------------------------------------------------------------------------------------------------------------------------------------------------------------------------------------------------------------------------------------------------------------------------------------------------------------------+-----------+\n",
            "|marketplace|customer_id|review_id     |product_id|product_parent|product_title                                                                                                                                                                                             |product_category|star_rating|helpful_votes|total_votes|vine|verified_purchase|review_headline                                                   |review_body                                                                                                                                                                                                                                                                                                                                                                                                                                                                                                                                                      |review_date|\n",
            "+-----------+-----------+--------------+----------+--------------+----------------------------------------------------------------------------------------------------------------------------------------------------------------------------------------------------------+----------------+-----------+-------------+-----------+----+-----------------+------------------------------------------------------------------+-----------------------------------------------------------------------------------------------------------------------------------------------------------------------------------------------------------------------------------------------------------------------------------------------------------------------------------------------------------------------------------------------------------------------------------------------------------------------------------------------------------------------------------------------------------------+-----------+\n",
            "|US         |48881148   |R215C9BDXTDQOW|B00FR4YQYK|381800308     |SadoTech Model C Wireless Doorbell Operating at over 500-feet Range with Over 50 Chimes, No Batteries Required for Receiver, (Various Colors)                                                             |Home Improvement|4          |0            |0          |N   |Y                |Four Stars                                                        |good product                                                                                                                                                                                                                                                                                                                                                                                                                                                                                                                                                     |2015-08-31 |\n",
            "|US         |47882936   |R1DTPUV1J57YHA|B00439MYYE|921341748     |iSpring T32M 3.2 Gallon Residential Pressurized Water Storage Tank for Reverse Osmosis (RO) Systems                                                                                                       |Home Improvement|5          |0            |0          |N   |Y                |Good price, quick shipment                                        |Good price, quick shipment. Adequate packaging. Hooked right up to my existing plumbing so it was an easy replacement.                                                                                                                                                                                                                                                                                                                                                                                                                                           |2015-08-31 |\n",
            "|US         |44435471   |RFAZK5EWKJWOU |B00002N762|56053291      |Schlage F10CS V ELA 626 Elan Light Commercial Passage Lever, Satin Chrome                                                                                                                                 |Home Improvement|5          |0            |0          |N   |Y                |Five Stars                                                        |Excellent...!                                                                                                                                                                                                                                                                                                                                                                                                                                                                                                                                                    |2015-08-31 |\n",
            "|US         |28377689   |R2XT8X0O0WS1AL|B000QFCP1G|595928517     |Citri-Strip QCG731 Paint and Varnish Stripping Gel, 1-Quart                                                                                                                                               |Home Improvement|5          |0            |0          |N   |Y                |Although *slightly* stronger paint removers can be found, this ...|Although *slightly* stronger paint removers can be found, this is far less hazardous (got it on my skin with minimal consequence; other strippers burned horribly)                                                                                                                                                                                                                                                                                                                                                                                               |2015-08-31 |\n",
            "|US         |50134766   |R14GRNANKO2Y2J|B00WRCRKOI|417053744     |SleekLighting Bulb Adapters / Converts Standard (E26) bulb base to (E12) Chandelier Socket Candelabra/ Screw Enlarger Adapter/ Wear and Tear Resistant/ Generates Low Heat-Lightweight/UL Listed Set of 12|Home Improvement|5          |0            |0          |N   |Y                |Great Adapters                                                    |These adapters are well made and easy to use.  Much easier than rebuilding a light fitting.                                                                                                                                                                                                                                                                                                                                                                                                                                                                      |2015-08-31 |\n",
            "|US         |14066511   |R2BLF9VYL24LCQ|B00NIH88EW|275395071     |VDOMUS&reg;Exquisite Single Handle Waterfall Kitchen Sink Faucet                                                                                                                                          |Home Improvement|5          |1            |1          |N   |Y                |nice                                                              |awesome and great price too                                                                                                                                                                                                                                                                                                                                                                                                                                                                                                                                      |2015-08-31 |\n",
            "|US         |15211046   |R1GI9UW5KJ671O|B005B9CI96|856617815     |Frigidaire 316075104 Element for Range                                                                                                                                                                    |Home Improvement|5          |0            |0          |N   |Y                |Five Stars                                                        |Perfect. Exactly as I ordered and expected.                                                                                                                                                                                                                                                                                                                                                                                                                                                                                                                      |2015-08-31 |\n",
            "|US         |14862498   |R2H5CEJN863M86|B008L0OMWI|125102494     |Anyray® 5-Bulbs 75 Watt G8 75W Halogen T4 Light Bulbs 110V-130V GY8.6 75Watt Base                                                                                                                         |Home Improvement|5          |0            |1          |N   |Y                |So far working great, the real test is how long they will ...     |So far working great, the real test is how long they will last..  better price than at the stores                                                                                                                                                                                                                                                                                                                                                                                                                                                                |2015-08-31 |\n",
            "|US         |23617292   |R5PPDHFOZ3SMU |B00P9FTC6O|523110842     |Cambridge 100 pcs- 11\" 75 Lbs Tensile Strength, Standard Duty Nylon Cable Ties, UV Black                                                                                                                  |Home Improvement|5          |0            |0          |N   |Y                |Ties tie.                                                         |Not much to say about these ties. They tie!!                                                                                                                                                                                                                                                                                                                                                                                                                                                                                                                     |2015-08-31 |\n",
            "|US         |35820485   |RE1L9IENKJJ7Y |B00K6BQEHQ|797306964     |EUBUY Silver Tone Mental Eye Lobster Claw Trigger Snap Clasp Hook Keychain Keyring Purse Bag Straps Pack Of 5                                                                                             |Home Improvement|1          |0            |0          |N   |Y                |GARBAGE                                                           |crap quality.                                                                                                                                                                                                                                                                                                                                                                                                                                                                                                                                                    |2015-08-31 |\n",
            "|US         |47162350   |R3CZ0990QC2Z0H|B008BYQCWM|865874404     |Legend 809125 Legend Decorative Lever Passage Adj Bs Bronze                                                                                                                                               |Home Improvement|5          |0            |0          |N   |Y                |Five Stars                                                        |Good. As expected.                                                                                                                                                                                                                                                                                                                                                                                                                                                                                                                                               |2015-08-31 |\n",
            "|US         |31884789   |R3UMMD2IO29QSP|B003BLHTOU|183592595     |Forearm Forklift Extension Strap, Model EXT                                                                                                                                                               |Home Improvement|5          |0            |0          |N   |Y                |It works!                                                         |My husband and I used this to team lift our elliptical when it was delivered in the box. It worked.                                                                                                                                                                                                                                                                                                                                                                                                                                                              |2015-08-31 |\n",
            "|US         |43835770   |R541LE5J3OJH2 |B0065I114K|185006358     |Newer Technology Power2U AC Wall Outlet with USB Charging Ports (White)                                                                                                                                   |Home Improvement|5          |0            |0          |N   |Y                |Five Stars                                                        |works perfectly                                                                                                                                                                                                                                                                                                                                                                                                                                                                                                                                                  |2015-08-31 |\n",
            "|US         |26212294   |R10KD9FIE6Y1AS|B00J9XB6BQ|53423207      |Rok Hardware 25 Pack Soft Close Damper for Cabinet Doors / Compact / Soft Close Adapter / Hardware / Nickel / Hinge                                                                                       |Home Improvement|5          |0            |0          |N   |Y                |Banging cabinet doors no more!                                    |Banging cabinet doors no more! Installed 15 of these in about 1/2 hour with drill and power screwdriver. I have all of mine adjusted to maximum setting and combined these with &#34;Sound Dampening Door Bumpers, 1/2&#34; Diameter, Sheet of 100 &#34;. Now instead of loud annoying slam all the cabinet doors gently close with just a faint very quiet bump. My cabinet doors are just typical wood, not a hard wood so they are light weight doors. If you have hard wood or heavier doors you may need to attach 2 of these, one on top and one on bottom.|2015-08-31 |\n",
            "|US         |17876704   |R1YT5YG0QG5DCG|B00K36NJ0E|593464633     |Drift Light Using Light To Naturally Improve Sleep                                                                                                                                                        |Home Improvement|5          |0            |0          |N   |Y                |Great product for a good price.                                   |Great product for a good price.                                                                                                                                                                                                                                                                                                                                                                                                                                                                                                                                  |2015-08-31 |\n",
            "|US         |22813225   |R207LXJWL40V1S|B000ZIEOHW|833911812     |Troy DPH11 Professional Series 11 Foot Drywall & Panel Lift Hoist                                                                                                                                         |Home Improvement|4          |0            |0          |N   |Y                |GETTING THE JOB DONE!                                             |Drywalling our 1800+ sq. ft. basement.  When we were young my husband and I did a former basement with me holding the 8' pieces while he inserted screws.  30 years later I'm still a bit miffed we didn't buy one of these because it has made this job soooo much easier.  The 12' x 4' sheets have been a little awkward on our 9' ceiling (primarily corners) but he hasn't complained ONCE! That tells me everything I need to know. And every few days I check his progress because this time around my assistance hasn't been require, much.              |2015-08-31 |\n",
            "|US         |25448576   |RIDP0ZD7WT9DE |B0009YDHKC|852173443     |Wright Products V2000BL Easy Touch Pneumatic Storm/Screen Door Closer, Black                                                                                                                              |Home Improvement|5          |0            |0          |N   |Y                |Five Stars                                                        |exact replacement only thing it is black white not available,                                                                                                                                                                                                                                                                                                                                                                                                                                                                                                    |2015-08-31 |\n",
            "|US         |19754503   |R2XJSNZ9219U1Z|B00LBGVLS2|929968058     |LiftMaster Garage Door Opener                                                                                                                                                                             |Home Improvement|5          |0            |0          |N   |Y                |Easy to program great replacement to my old one                   |Works as advertised!!!  Easy to program great replacement to my old one.                                                                                                                                                                                                                                                                                                                                                                                                                                                                                         |2015-08-31 |\n",
            "|US         |17767084   |R2M9F1FVVDOGFL|B00002N5DY|830214712     |Heath Zenith SL-5411-GR-C 150-Degree Motion-Sensing Twin Flood Security Light, Gray                                                                                                                       |Home Improvement|5          |0            |0          |N   |Y                |easy to install                                                   |Working well the weather will prove its worth                                                                                                                                                                                                                                                                                                                                                                                                                                                                                                                    |2015-08-31 |\n",
            "|US         |48001709   |R1QTOSE2BHU2LJ|B000BQOX88|498022954     |Intermatic T101 24 Hour Dial Timer                                                                                                                                                                        |Home Improvement|3          |1            |2          |N   |Y                |Kind of disappointed that for a few cents more                    |I connected the replacement pool clock and worked as was supposed to.  The previous one I had had plastic gears for the timer, which wore out over time and this replacement one is made of the same materials.  Kind of disappointed that for a few cents more, the manufacturer could have replaced those plastic gears with metal ones and would last 4 or 5 times longer.                                                                                                                                                                                    |2015-08-31 |\n",
            "+-----------+-----------+--------------+----------+--------------+----------------------------------------------------------------------------------------------------------------------------------------------------------------------------------------------------------+----------------+-----------+-------------+-----------+----+-----------------+------------------------------------------------------------------+-----------------------------------------------------------------------------------------------------------------------------------------------------------------------------------------------------------------------------------------------------------------------------------------------------------------------------------------------------------------------------------------------------------------------------------------------------------------------------------------------------------------------------------------------------------------+-----------+\n",
            "only showing top 20 rows\n",
            "\n"
          ]
        }
      ]
    },
    {
      "cell_type": "code",
      "source": [
        "# Create the vine_table DataFrame\n",
        "vine_df=df.select(['review_id','star_rating','helpful_votes','total_votes','vine','verified_purchase'])\n",
        "vine_df.show()"
      ],
      "metadata": {
        "colab": {
          "base_uri": "https://localhost:8080/"
        },
        "id": "x5XHqIub4B9X",
        "outputId": "7eaa6512-2195-4a69-b131-36a355e9c5e5"
      },
      "execution_count": 52,
      "outputs": [
        {
          "output_type": "stream",
          "name": "stdout",
          "text": [
            "+--------------+-----------+-------------+-----------+----+-----------------+\n",
            "|     review_id|star_rating|helpful_votes|total_votes|vine|verified_purchase|\n",
            "+--------------+-----------+-------------+-----------+----+-----------------+\n",
            "|R215C9BDXTDQOW|          4|            0|          0|   N|                Y|\n",
            "|R1DTPUV1J57YHA|          5|            0|          0|   N|                Y|\n",
            "| RFAZK5EWKJWOU|          5|            0|          0|   N|                Y|\n",
            "|R2XT8X0O0WS1AL|          5|            0|          0|   N|                Y|\n",
            "|R14GRNANKO2Y2J|          5|            0|          0|   N|                Y|\n",
            "|R2BLF9VYL24LCQ|          5|            1|          1|   N|                Y|\n",
            "|R1GI9UW5KJ671O|          5|            0|          0|   N|                Y|\n",
            "|R2H5CEJN863M86|          5|            0|          1|   N|                Y|\n",
            "| R5PPDHFOZ3SMU|          5|            0|          0|   N|                Y|\n",
            "| RE1L9IENKJJ7Y|          1|            0|          0|   N|                Y|\n",
            "|R3CZ0990QC2Z0H|          5|            0|          0|   N|                Y|\n",
            "|R3UMMD2IO29QSP|          5|            0|          0|   N|                Y|\n",
            "| R541LE5J3OJH2|          5|            0|          0|   N|                Y|\n",
            "|R10KD9FIE6Y1AS|          5|            0|          0|   N|                Y|\n",
            "|R1YT5YG0QG5DCG|          5|            0|          0|   N|                Y|\n",
            "|R207LXJWL40V1S|          4|            0|          0|   N|                Y|\n",
            "| RIDP0ZD7WT9DE|          5|            0|          0|   N|                Y|\n",
            "|R2XJSNZ9219U1Z|          5|            0|          0|   N|                Y|\n",
            "|R2M9F1FVVDOGFL|          5|            0|          0|   N|                Y|\n",
            "|R1QTOSE2BHU2LJ|          3|            1|          2|   N|                Y|\n",
            "+--------------+-----------+-------------+-----------+----+-----------------+\n",
            "only showing top 20 rows\n",
            "\n"
          ]
        }
      ]
    },
    {
      "cell_type": "code",
      "source": [
        "# Filter rows with total votes equal to or greater than 20\n",
        "greater_df = vine_df.filter(vine_df.total_votes>=20)\n",
        "greater_df.show()"
      ],
      "metadata": {
        "colab": {
          "base_uri": "https://localhost:8080/"
        },
        "id": "C2ppudjD4CEX",
        "outputId": "cb2f124c-c0f0-45c7-fead-512b9b3f03cb"
      },
      "execution_count": 53,
      "outputs": [
        {
          "output_type": "stream",
          "name": "stdout",
          "text": [
            "+--------------+-----------+-------------+-----------+----+-----------------+\n",
            "|     review_id|star_rating|helpful_votes|total_votes|vine|verified_purchase|\n",
            "+--------------+-----------+-------------+-----------+----+-----------------+\n",
            "|R2VIQ3UX794Q0O|          4|           21|         21|   N|                Y|\n",
            "|R1OA24IIHWF54G|          5|           43|         45|   N|                Y|\n",
            "| RJ7N3OOJR9RL0|          4|           63|         71|   N|                Y|\n",
            "|R1W8778CBXSRU6|          5|           28|         29|   N|                Y|\n",
            "|R2EFAM03SWLIJX|          1|           32|         35|   N|                Y|\n",
            "|R3F8P56ZDJ6PI8|          4|          106|        115|   N|                Y|\n",
            "|R2QYLQEK9UAJQ6|          5|           33|         34|   N|                Y|\n",
            "| RQCC7XNYI014B|          1|           91|         92|   N|                Y|\n",
            "|R2U8FRHRVW5D2C|          5|           23|         23|   N|                N|\n",
            "|R3RJZC5J4VP7AT|          4|           86|         91|   N|                N|\n",
            "|R2KBV3A9X53ULG|          5|           39|         45|   N|                Y|\n",
            "|R18XX6GVZ41CY1|          5|           21|         22|   N|                N|\n",
            "|R3V8NHJWQWOU7S|          5|           27|         27|   N|                Y|\n",
            "|R25FJV7A58YHEM|          1|           19|         22|   N|                Y|\n",
            "|R285Z02CQJJ36C|          3|           45|         48|   N|                Y|\n",
            "| R5UJCOLQBEADG|          1|           31|         35|   N|                Y|\n",
            "|R1KEUH7SZ9BIRK|          1|           20|         20|   N|                Y|\n",
            "|R16U59S8ZJGPLY|          5|           64|         64|   N|                Y|\n",
            "|R233D4SD2MHUZG|          5|           20|         20|   N|                Y|\n",
            "| RVDGV2G8PEUH2|          1|           13|         21|   N|                N|\n",
            "+--------------+-----------+-------------+-----------+----+-----------------+\n",
            "only showing top 20 rows\n",
            "\n"
          ]
        }
      ]
    },
    {
      "cell_type": "code",
      "source": [
        "# Filter rows where %helpful votes is greater than or equal to 50\n",
        "helpful_df = greater_df.filter((greater_df.helpful_votes/greater_df.total_votes)>=0.5)\n",
        "helpful_df.show()"
      ],
      "metadata": {
        "colab": {
          "base_uri": "https://localhost:8080/"
        },
        "id": "PL6Mq5BBeJvK",
        "outputId": "b2bfb27d-77a7-4c32-c5ba-cd6922828dd2"
      },
      "execution_count": 54,
      "outputs": [
        {
          "output_type": "stream",
          "name": "stdout",
          "text": [
            "+--------------+-----------+-------------+-----------+----+-----------------+\n",
            "|     review_id|star_rating|helpful_votes|total_votes|vine|verified_purchase|\n",
            "+--------------+-----------+-------------+-----------+----+-----------------+\n",
            "|R2VIQ3UX794Q0O|          4|           21|         21|   N|                Y|\n",
            "|R1OA24IIHWF54G|          5|           43|         45|   N|                Y|\n",
            "| RJ7N3OOJR9RL0|          4|           63|         71|   N|                Y|\n",
            "|R1W8778CBXSRU6|          5|           28|         29|   N|                Y|\n",
            "|R2EFAM03SWLIJX|          1|           32|         35|   N|                Y|\n",
            "|R3F8P56ZDJ6PI8|          4|          106|        115|   N|                Y|\n",
            "|R2QYLQEK9UAJQ6|          5|           33|         34|   N|                Y|\n",
            "| RQCC7XNYI014B|          1|           91|         92|   N|                Y|\n",
            "|R2U8FRHRVW5D2C|          5|           23|         23|   N|                N|\n",
            "|R3RJZC5J4VP7AT|          4|           86|         91|   N|                N|\n",
            "|R2KBV3A9X53ULG|          5|           39|         45|   N|                Y|\n",
            "|R18XX6GVZ41CY1|          5|           21|         22|   N|                N|\n",
            "|R3V8NHJWQWOU7S|          5|           27|         27|   N|                Y|\n",
            "|R25FJV7A58YHEM|          1|           19|         22|   N|                Y|\n",
            "|R285Z02CQJJ36C|          3|           45|         48|   N|                Y|\n",
            "| R5UJCOLQBEADG|          1|           31|         35|   N|                Y|\n",
            "|R1KEUH7SZ9BIRK|          1|           20|         20|   N|                Y|\n",
            "|R16U59S8ZJGPLY|          5|           64|         64|   N|                Y|\n",
            "|R233D4SD2MHUZG|          5|           20|         20|   N|                Y|\n",
            "| RVDGV2G8PEUH2|          1|           13|         21|   N|                N|\n",
            "+--------------+-----------+-------------+-----------+----+-----------------+\n",
            "only showing top 20 rows\n",
            "\n"
          ]
        }
      ]
    },
    {
      "cell_type": "code",
      "source": [
        "# Filter rows with paid vine\n",
        "paid_df=helpful_df.filter(helpful_df['vine']=='Y')\n",
        "paid_df.show()"
      ],
      "metadata": {
        "colab": {
          "base_uri": "https://localhost:8080/"
        },
        "id": "e7LPCLDq4CPn",
        "outputId": "e8f06566-70df-4109-9898-812ff4ce41b6"
      },
      "execution_count": 55,
      "outputs": [
        {
          "output_type": "stream",
          "name": "stdout",
          "text": [
            "+--------------+-----------+-------------+-----------+----+-----------------+\n",
            "|     review_id|star_rating|helpful_votes|total_votes|vine|verified_purchase|\n",
            "+--------------+-----------+-------------+-----------+----+-----------------+\n",
            "|R29V4UDSS053D8|          3|           33|         38|   Y|                N|\n",
            "|R1I2D068WC37PA|          3|           32|         37|   Y|                N|\n",
            "|R13W2U74F67QED|          5|           62|         76|   Y|                N|\n",
            "|R2QI37XFOBKUGD|          4|           24|         33|   Y|                N|\n",
            "|R19F60BB2DNCKN|          5|          170|        174|   Y|                N|\n",
            "|R2PYNEWYYQDWHI|          5|           24|         27|   Y|                N|\n",
            "|R1UEWHCPJL2XJB|          5|           70|         72|   Y|                N|\n",
            "| RXTMMEBRYZB53|          5|           21|         24|   Y|                N|\n",
            "|R1PXVYIYMYGUZL|          5|           21|         26|   Y|                N|\n",
            "| RSFMJJXFZHX1C|          5|           24|         25|   Y|                N|\n",
            "|R3AGOANU5B89WE|          4|           20|         21|   Y|                N|\n",
            "|R1Z849RVP83BSJ|          5|           21|         23|   Y|                N|\n",
            "|R2HQVKK2QW0EAT|          5|           20|         24|   Y|                N|\n",
            "|  RHSOAAAT5UVP|          5|           55|         56|   Y|                N|\n",
            "| RZXDK1RE3YQ97|          4|           18|         21|   Y|                N|\n",
            "|R2IQH4H2S5EROF|          5|           23|         24|   Y|                N|\n",
            "| R2BQ1FHU7OQPQ|          5|          212|        220|   Y|                N|\n",
            "| RH1A5XB16O3BM|          4|           28|         32|   Y|                N|\n",
            "| R4MAE8LHKDZMG|          5|           36|         39|   Y|                Y|\n",
            "|R2QLNOOJ4J16D2|          3|          111|        118|   Y|                N|\n",
            "+--------------+-----------+-------------+-----------+----+-----------------+\n",
            "only showing top 20 rows\n",
            "\n"
          ]
        }
      ]
    },
    {
      "cell_type": "code",
      "source": [
        "# Filter rows with unpaid non-vine\n",
        "unpaid_df=helpful_df.filter(helpful_df['vine']=='N')\n",
        "unpaid_df.show()"
      ],
      "metadata": {
        "colab": {
          "base_uri": "https://localhost:8080/"
        },
        "id": "-V6qNXNg5QgD",
        "outputId": "c26c9dfc-4f4f-469c-d128-d88ec95ab8f9"
      },
      "execution_count": 56,
      "outputs": [
        {
          "output_type": "stream",
          "name": "stdout",
          "text": [
            "+--------------+-----------+-------------+-----------+----+-----------------+\n",
            "|     review_id|star_rating|helpful_votes|total_votes|vine|verified_purchase|\n",
            "+--------------+-----------+-------------+-----------+----+-----------------+\n",
            "|R2VIQ3UX794Q0O|          4|           21|         21|   N|                Y|\n",
            "|R1OA24IIHWF54G|          5|           43|         45|   N|                Y|\n",
            "| RJ7N3OOJR9RL0|          4|           63|         71|   N|                Y|\n",
            "|R1W8778CBXSRU6|          5|           28|         29|   N|                Y|\n",
            "|R2EFAM03SWLIJX|          1|           32|         35|   N|                Y|\n",
            "|R3F8P56ZDJ6PI8|          4|          106|        115|   N|                Y|\n",
            "|R2QYLQEK9UAJQ6|          5|           33|         34|   N|                Y|\n",
            "| RQCC7XNYI014B|          1|           91|         92|   N|                Y|\n",
            "|R2U8FRHRVW5D2C|          5|           23|         23|   N|                N|\n",
            "|R3RJZC5J4VP7AT|          4|           86|         91|   N|                N|\n",
            "|R2KBV3A9X53ULG|          5|           39|         45|   N|                Y|\n",
            "|R18XX6GVZ41CY1|          5|           21|         22|   N|                N|\n",
            "|R3V8NHJWQWOU7S|          5|           27|         27|   N|                Y|\n",
            "|R25FJV7A58YHEM|          1|           19|         22|   N|                Y|\n",
            "|R285Z02CQJJ36C|          3|           45|         48|   N|                Y|\n",
            "| R5UJCOLQBEADG|          1|           31|         35|   N|                Y|\n",
            "|R1KEUH7SZ9BIRK|          1|           20|         20|   N|                Y|\n",
            "|R16U59S8ZJGPLY|          5|           64|         64|   N|                Y|\n",
            "|R233D4SD2MHUZG|          5|           20|         20|   N|                Y|\n",
            "| RVDGV2G8PEUH2|          1|           13|         21|   N|                N|\n",
            "+--------------+-----------+-------------+-----------+----+-----------------+\n",
            "only showing top 20 rows\n",
            "\n"
          ]
        }
      ]
    },
    {
      "cell_type": "code",
      "source": [
        "# Determine the total number of reviews, the number of 5-star reviews, and the percentage of 5-star reviews for the two types of review (paid vs unpaid)\n",
        "helpful_reviews = helpful_df.count()\n",
        "fivestar_reviews = helpful_df.filter('star_rating == 5').count()\n",
        "fivestar_paid = paid_df.filter(\"vine == 'Y' AND star_rating = 5\").count()\n",
        "fivestar_unpaid = unpaid_df.filter(\"vine == 'N' AND star_rating = 5\").count()\n",
        "percent_paid = \"{:.1%}\".format(fivestar_paid/helpful_reviews)\n",
        "percent_unpaid = \"{:.1%}\".format(fivestar_unpaid/helpful_reviews)"
      ],
      "metadata": {
        "id": "5I8FdUBMpA0Z"
      },
      "execution_count": 57,
      "outputs": []
    },
    {
      "cell_type": "code",
      "source": [
        "print(\"Total Number of Reviews:\", helpful_reviews)\n",
        "print(\"Number of Five-Star Reviews:\", fivestar_reviews)\n",
        "print(\"Number of Five-Star Vine Reviews:\", fivestar_paid)\n",
        "print(\"Percentage of Five-Star Vine Reviews:\", percent_paid)\n",
        "print(\"Number of Five-Star Non-Vine Reviews:\", fivestar_unpaid)\n",
        "print(\"Percentage of Five-Star Non-Vine Reviews:\", percent_unpaid)"
      ],
      "metadata": {
        "colab": {
          "base_uri": "https://localhost:8080/"
        },
        "id": "Pv8gMhq_pBAv",
        "outputId": "02436b4a-5afb-4f0b-f6b2-84baab70fc5e"
      },
      "execution_count": 58,
      "outputs": [
        {
          "output_type": "stream",
          "name": "stdout",
          "text": [
            "Total Number of Reviews: 39095\n",
            "Number of Five-Star Reviews: 18371\n",
            "Number of Five-Star Vine Reviews: 125\n",
            "Percentage of Five-Star Vine Reviews: 0.3%\n",
            "Number of Five-Star Non-Vine Reviews: 18246\n",
            "Percentage of Five-Star Non-Vine Reviews: 46.7%\n"
          ]
        }
      ]
    }
  ]
}